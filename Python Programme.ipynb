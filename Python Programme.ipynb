{
 "cells": [
  {
   "cell_type": "code",
   "execution_count": 1,
   "id": "c4eaf3db",
   "metadata": {},
   "outputs": [
    {
     "name": "stdout",
     "output_type": "stream",
     "text": [
      "length in cm:2\n",
      "breadth in cm:3\n",
      "your area rectangle is: 6 cm^2\n"
     ]
    }
   ],
   "source": [
    "l=int(input(\"length in cm:\"))\n",
    "b=int(input(\"breadth in cm:\"))\n",
    "a=l*b\n",
    "print(\"your area rectangle is:\",a,\"cm^2\")"
   ]
  },
  {
   "cell_type": "code",
   "execution_count": 3,
   "id": "4aaab0c9",
   "metadata": {},
   "outputs": [
    {
     "name": "stdout",
     "output_type": "stream",
     "text": [
      "enter your radius50\n",
      "your area is: 7850.0\n"
     ]
    }
   ],
   "source": [
    "r=int(input(\"enter your radius\"))\n",
    "a=3.14*(r*r)\n",
    "print(\"your area is:\",a)"
   ]
  },
  {
   "cell_type": "code",
   "execution_count": 4,
   "id": "847ce39c",
   "metadata": {},
   "outputs": [
    {
     "name": "stdout",
     "output_type": "stream",
     "text": [
      "length in cm10\n",
      "breadth in cm20\n",
      "enter height10\n",
      "the area is: 1000\n"
     ]
    }
   ],
   "source": [
    "l=int(input(\"length in cm\"))\n",
    "b=int(input(\"breadth in cm\"))\n",
    "h=int(input(\"enter height\"))\n",
    "a=2*(l*b+b*h+h*l)\n",
    "print(\"the area is:\",a)"
   ]
  },
  {
   "cell_type": "code",
   "execution_count": 5,
   "id": "e44bfeb2",
   "metadata": {},
   "outputs": [
    {
     "name": "stdout",
     "output_type": "stream",
     "text": [
      "enter length of cube5\n",
      "the area of cube is: 150\n"
     ]
    }
   ],
   "source": [
    "a=int(input(\"enter length of cube\"))\n",
    "x=6*(a*a)\n",
    "print(\"the area of cube is:\",x)"
   ]
  },
  {
   "cell_type": "code",
   "execution_count": 6,
   "id": "5a275959",
   "metadata": {},
   "outputs": [
    {
     "name": "stdout",
     "output_type": "stream",
     "text": [
      "enter radius5\n",
      "enter height23\n",
      "your c.s.a is: 722.2\n"
     ]
    }
   ],
   "source": [
    "r=int(input(\"enter radius\"))\n",
    "h=int(input(\"enter height\"))\n",
    "a=2*(3.14*(r*h))\n",
    "print(\"your c.s.a is:\",a)"
   ]
  },
  {
   "cell_type": "code",
   "execution_count": 7,
   "id": "c35b36ca",
   "metadata": {},
   "outputs": [
    {
     "name": "stdout",
     "output_type": "stream",
     "text": [
      "enter radius5\n",
      "enter height6\n",
      "area is: 345.40000000000003\n"
     ]
    }
   ],
   "source": [
    "r=int(input(\"enter radius\"))\n",
    "h=int(input(\"enter height\"))\n",
    "a=2*3.14*r*(r+h)\n",
    "print(\"area is:\",a)"
   ]
  },
  {
   "cell_type": "code",
   "execution_count": 8,
   "id": "18df42c8",
   "metadata": {},
   "outputs": [
    {
     "name": "stdout",
     "output_type": "stream",
     "text": [
      "enter radius5\n",
      "enter height5\n",
      "csa is: 78.5\n"
     ]
    }
   ],
   "source": [
    "r=int(input(\"enter radius\"))\n",
    "l=int(input(\"enter height\"))\n",
    "a=3.14*r*l\n",
    "print(\"csa is:\",a)"
   ]
  },
  {
   "cell_type": "code",
   "execution_count": 11,
   "id": "176dafce",
   "metadata": {},
   "outputs": [
    {
     "name": "stdout",
     "output_type": "stream",
     "text": [
      "enter radius5\n",
      "enter slant heights3\n",
      "the tsa is: 125.60000000000001\n"
     ]
    }
   ],
   "source": [
    "r=int(input(\"enter radius\"))\n",
    "l=int(input(\"enter slant heights\"))\n",
    "a=3.14*r*(l+r)\n",
    "print(\"the tsa is:\",a)"
   ]
  },
  {
   "cell_type": "code",
   "execution_count": 15,
   "id": "511410ac",
   "metadata": {},
   "outputs": [
    {
     "name": "stdout",
     "output_type": "stream",
     "text": [
      "enter radius5\n",
      "enter length5\n",
      "tsa of spehere is: 314.0\n"
     ]
    }
   ],
   "source": [
    "r=int(input(\"enter radius\"))\n",
    "l=int(input(\"enter length\"))\n",
    "a=4*(3.14*(r*r))\n",
    "print(\"tsa of spehere is:\",a)"
   ]
  },
  {
   "cell_type": "code",
   "execution_count": 17,
   "id": "c5cefe1f",
   "metadata": {},
   "outputs": [
    {
     "name": "stdout",
     "output_type": "stream",
     "text": [
      "enter length5\n",
      "enter breadth6\n",
      "enter height2\n",
      "volume of cuboid is: 60\n"
     ]
    }
   ],
   "source": [
    "l=int(input(\"enter length\"))\n",
    "b=int(input(\"enter breadth\"))\n",
    "h=int(input(\"enter height\"))\n",
    "a=l*b*h\n",
    "print(\"volume of cuboid is:\",a)"
   ]
  },
  {
   "cell_type": "code",
   "execution_count": 1,
   "id": "f26175eb",
   "metadata": {},
   "outputs": [
    {
     "name": "stdout",
     "output_type": "stream",
     "text": [
      "enter length5\n",
      "volume of cube is: 125\n"
     ]
    }
   ],
   "source": [
    "l=int(input(\"enter length\"))\n",
    "a=l*l*l\n",
    "print('volume of cube is:',a)"
   ]
  },
  {
   "cell_type": "code",
   "execution_count": 2,
   "id": "2bafc316",
   "metadata": {},
   "outputs": [
    {
     "name": "stdout",
     "output_type": "stream",
     "text": [
      "enter radius2\n",
      "enter height9\n",
      "volume is: 113.04\n"
     ]
    }
   ],
   "source": [
    "r=int(input(\"enter radius\"))\n",
    "h=int(input(\"enter height\"))\n",
    "v=3.14*(r*r)*h\n",
    "print(\"volume is:\",v)"
   ]
  },
  {
   "cell_type": "code",
   "execution_count": 3,
   "id": "b833a4f3",
   "metadata": {},
   "outputs": [
    {
     "name": "stdout",
     "output_type": "stream",
     "text": [
      "enter radius5\n",
      "enter height3\n",
      "volume is: 78.5\n"
     ]
    }
   ],
   "source": [
    "r=int(input(\"enter radius\"))\n",
    "h=int(input(\"enter height\"))\n",
    "v=1/3*(3.14*(r*r)*h)\n",
    "print(\"volume is:\",v)"
   ]
  },
  {
   "cell_type": "code",
   "execution_count": 5,
   "id": "9c05d220",
   "metadata": {},
   "outputs": [
    {
     "name": "stdout",
     "output_type": "stream",
     "text": [
      "enter radius2\n",
      "volume is: 33.49333333333333\n"
     ]
    }
   ],
   "source": [
    "r=int(input(\"enter radius\"))\n",
    "v=4/3*(3.14*(r*r*r))\n",
    "print(\"volume is:\",v)"
   ]
  },
  {
   "cell_type": "code",
   "execution_count": 6,
   "id": "4f326fe3",
   "metadata": {},
   "outputs": [
    {
     "name": "stdout",
     "output_type": "stream",
     "text": [
      "enter length in cm26\n",
      "enter breadth in cm12\n",
      "perimeter of rectangle is: 76 cm\n"
     ]
    }
   ],
   "source": [
    "l=int(input(\"enter length in cm\"))\n",
    "b=int(input(\"enter breadth in cm\"))\n",
    "a=2*(l+b)\n",
    "print(\"perimeter of rectangle is:\",a,\"cm\")"
   ]
  },
  {
   "cell_type": "code",
   "execution_count": 7,
   "id": "a19fb9b6",
   "metadata": {},
   "outputs": [
    {
     "name": "stdout",
     "output_type": "stream",
     "text": [
      "enter length in cm2\n",
      "your area of square is: 4 cm^2\n"
     ]
    }
   ],
   "source": [
    "A=int(input(\"enter length in cm\"))\n",
    "x=A*A\n",
    "print(\"your area of square is:\",x,\"cm^2\")"
   ]
  },
  {
   "cell_type": "code",
   "execution_count": 8,
   "id": "d826558e",
   "metadata": {},
   "outputs": [
    {
     "name": "stdout",
     "output_type": "stream",
     "text": [
      "enter height4\n",
      "enter base5\n",
      "your area is: 10.0 cm^2\n"
     ]
    }
   ],
   "source": [
    "h=int(input(\"enter height\"))\n",
    "b=int(input(\"enter base\"))\n",
    "a=1/2*(b*h)\n",
    "print(\"your area is:\",a,\"cm^2\")"
   ]
  },
  {
   "cell_type": "code",
   "execution_count": 9,
   "id": "95b1b41b",
   "metadata": {},
   "outputs": [
    {
     "name": "stdout",
     "output_type": "stream",
     "text": [
      "enter first no5\n",
      "enter second no6\n",
      "enter third no7\n",
      "the greatest no is: 7\n"
     ]
    }
   ],
   "source": [
    "a=int(input(\"enter first no\"))\n",
    "b=int(input(\"enter second no\"))\n",
    "c=int(input(\"enter third no\"))\n",
    "if a>b:\n",
    "    if a>c:\n",
    "        print(\"the greater no is:\",a)\n",
    "    else:\n",
    "        print(\"the greater no is:\",c)\n",
    "else:\n",
    "    if b>c:\n",
    "        print(\"the greatest no is:\",b)\n",
    "    else:\n",
    "        print(\"the greatest no is:\",c)"
   ]
  },
  {
   "cell_type": "code",
   "execution_count": 10,
   "id": "f00ab69e",
   "metadata": {},
   "outputs": [
    {
     "name": "stdout",
     "output_type": "stream",
     "text": [
      "enter first side of triangle2\n",
      "enter second side of triangle5\n",
      "enter third side of triangle5\n",
      "the perimeter is: 12\n"
     ]
    }
   ],
   "source": [
    "a=int(input(\"enter first side of triangle\"))\n",
    "b=int(input(\"enter second side of triangle\"))\n",
    "c=int(input(\"enter third side of triangle\"))\n",
    "perimeter=a+b+c\n",
    "print(\"the perimeter is:\",perimeter)"
   ]
  },
  {
   "cell_type": "code",
   "execution_count": 14,
   "id": "e4eff4c7",
   "metadata": {},
   "outputs": [
    {
     "name": "stdout",
     "output_type": "stream",
     "text": [
      "enter first no44\n",
      "enter second no66\n",
      "enter third no88\n",
      "enter fourth no99\n",
      "greatest number is: 99.0\n"
     ]
    }
   ],
   "source": [
    "a=float(input(\"enter first no\"))\n",
    "b=float(input(\"enter second no\"))\n",
    "c=float(input(\"enter third no\"))\n",
    "d=float(input(\"enter fourth no\"))\n",
    "if(a>b and a>c and a>d):\n",
    "    print(\"greatest number is:\",a)\n",
    "elif (b>c and b>d):\n",
    "    print(\"greatest number is:\",b)\n",
    "elif(c>d):\n",
    "    print(\"greatest number is:\",c)\n",
    "elif(d>c):\n",
    "    print(\"greatest number is:\",d)\n",
    "else:\n",
    "    print(\"Either any two values or all the four values are equal\")"
   ]
  },
  {
   "cell_type": "code",
   "execution_count": 15,
   "id": "dc2421e3",
   "metadata": {},
   "outputs": [
    {
     "name": "stdout",
     "output_type": "stream",
     "text": [
      "enter marks out of 300251\n",
      "percentage is 83.66666666666667 %\n",
      "your devision is first\n"
     ]
    }
   ],
   "source": [
    "a=eval(input(\"enter marks out of 300\"))\n",
    "b=a/300*100\n",
    "print(\"percentage is\",b,\"%\")\n",
    "if(a>300):\n",
    "    print(\"you entered a wrong marks\")\n",
    "elif b>60:\n",
    "    print(\"your devision is first\")\n",
    "elif(b>50 and b<53):\n",
    "    print(\"your devision is second\")\n",
    "elif(b>33 and b<50):\n",
    "    print(\"your devision is third\")\n",
    "else:\n",
    "    print(\"fail\")"
   ]
  },
  {
   "cell_type": "code",
   "execution_count": 16,
   "id": "04b34623",
   "metadata": {},
   "outputs": [
    {
     "name": "stdout",
     "output_type": "stream",
     "text": [
      "enter your age17\n",
      "teenager\n"
     ]
    }
   ],
   "source": [
    "y=int(input(\"enter your age\"))\n",
    "if(y>0 and y<12):\n",
    "    print(\"kid\")\n",
    "elif(y>=12 and y<19):\n",
    "    print(\"teenager\")\n",
    "elif(y>19 and y<30):\n",
    "    print(\"young\")\n",
    "elif(y>30 and y<45):\n",
    "    print(\"mature\")\n",
    "elif(y>45 and y<60):\n",
    "    print(\"experienced\")\n",
    "elif(y>60 and y<75):\n",
    "    print(\"old\")\n",
    "elif(y>75):\n",
    "    print(\"senior citizen\")"
   ]
  },
  {
   "cell_type": "code",
   "execution_count": 1,
   "id": "08d37776",
   "metadata": {},
   "outputs": [
    {
     "name": "stdout",
     "output_type": "stream",
     "text": [
      "enter limit5\n",
      "the sum is  10\n"
     ]
    }
   ],
   "source": [
    "n=int(input(\"enter limit\"))\n",
    "s=0\n",
    "for c in range(1,n):\n",
    "    s=c+s\n",
    "print(\"the sum is \",s)"
   ]
  },
  {
   "cell_type": "code",
   "execution_count": 4,
   "id": "88a1c73d",
   "metadata": {},
   "outputs": [
    {
     "name": "stdout",
     "output_type": "stream",
     "text": [
      "enter a number5\n",
      "the factorial of 5 is 120\n"
     ]
    }
   ],
   "source": [
    "a=int(input(\"enter a number\"))\n",
    "factorial=1\n",
    "if a<0:\n",
    "    print(\"sorry,factorial does not exist for negative number\")\n",
    "elif a==0:\n",
    "    print(\"the factorial of 0 is 1\")\n",
    "else:\n",
    "    for i in range(1,a+1):\n",
    "        factorial=factorial*i\n",
    "    print(\"the factorial of\",a,\"is\",factorial)"
   ]
  },
  {
   "cell_type": "code",
   "execution_count": 5,
   "id": "fcc69a8f",
   "metadata": {},
   "outputs": [
    {
     "name": "stdout",
     "output_type": "stream",
     "text": [
      "show the multiplication table of12\n",
      "12 X 1 = 12\n",
      "12 X 2 = 24\n",
      "12 X 3 = 36\n",
      "12 X 4 = 48\n",
      "12 X 5 = 60\n",
      "12 X 6 = 72\n",
      "12 X 7 = 84\n",
      "12 X 8 = 96\n",
      "12 X 9 = 108\n",
      "12 X 10 = 120\n"
     ]
    }
   ],
   "source": [
    "a=int(input(\"show the multiplication table of\"))\n",
    "for i in range(1,11):\n",
    "    print(a,\"X\",i,\"=\",a*i)"
   ]
  },
  {
   "cell_type": "code",
   "execution_count": 6,
   "id": "ab299faf",
   "metadata": {},
   "outputs": [
    {
     "name": "stdout",
     "output_type": "stream",
     "text": [
      "enter the number rows6\n",
      "* * * * * * \n",
      "* * * * * \n",
      "* * * * \n",
      "* * * \n",
      "* * \n",
      "* \n"
     ]
    }
   ],
   "source": [
    "num=int(input(\"enter the number rows\"))\n",
    "for i in range(num,0,-1):\n",
    "    for j in range(0,i):\n",
    "        print(\"*\",end=\" \")\n",
    "    print()"
   ]
  },
  {
   "cell_type": "code",
   "execution_count": 7,
   "id": "6d11f355",
   "metadata": {},
   "outputs": [
    {
     "name": "stdout",
     "output_type": "stream",
     "text": [
      "enter the no of rows4\n",
      "1 \n",
      "2 2 \n",
      "3 3 3 \n",
      "4 4 4 4 \n"
     ]
    }
   ],
   "source": [
    "n=int(input(\"enter the no of rows\"))\n",
    "for i in range (1,n+1):\n",
    "    for j in range(1,i+1):\n",
    "        print(i,end=\" \")\n",
    "    print()"
   ]
  },
  {
   "cell_type": "code",
   "execution_count": 10,
   "id": "34da2d9a",
   "metadata": {},
   "outputs": [
    {
     "name": "stdout",
     "output_type": "stream",
     "text": [
      "enter the number rows5\n",
      "          *\n",
      "        **\n",
      "      ***\n",
      "    ****\n",
      "  *****\n"
     ]
    }
   ],
   "source": [
    "num=int(input(\"enter the number rows\"))\n",
    "for i in range(0,num):\n",
    "    for j in range(0,num-i):\n",
    "        print(\" \",end=\" \")\n",
    "    for k in range(0,i+1):\n",
    "        print(\"*\",end=\"\")\n",
    "    print(\"\")"
   ]
  },
  {
   "cell_type": "code",
   "execution_count": 11,
   "id": "42372151",
   "metadata": {},
   "outputs": [
    {
     "name": "stdout",
     "output_type": "stream",
     "text": [
      "enter the no of rows:5\n",
      "1\n",
      "12\n",
      "123\n",
      "1234\n",
      "12345\n"
     ]
    }
   ],
   "source": [
    "n=int(input(\"enter the no of rows:\"))\n",
    "for i in range(1,n+1):\n",
    "    for j in range(1,i+1):\n",
    "        print(j,end=\"\")\n",
    "    print()"
   ]
  },
  {
   "cell_type": "code",
   "execution_count": 15,
   "id": "fe7bd53c",
   "metadata": {},
   "outputs": [
    {
     "name": "stdout",
     "output_type": "stream",
     "text": [
      "enter the range: 5\n",
      "0\n",
      "1\n",
      "1\n",
      "2\n",
      "3\n"
     ]
    }
   ],
   "source": [
    "a=eval(input(\"enter the range: \"))\n",
    "i=0\n",
    "first_value=0\n",
    "second_value=1\n",
    "while(i<a):\n",
    "    if(i<=1):\n",
    "        Next=i\n",
    "    else:\n",
    "        Next=first_value+second_value\n",
    "        first_value=second_value\n",
    "        second_value=Next\n",
    "    print(Next)\n",
    "    i=i+1"
   ]
  },
  {
   "cell_type": "code",
   "execution_count": 20,
   "id": "a7539fb5",
   "metadata": {},
   "outputs": [
    {
     "name": "stdout",
     "output_type": "stream",
     "text": [
      "enter the range: 5\n",
      "0\n",
      "1\n",
      "1\n",
      "2\n",
      "3\n"
     ]
    }
   ],
   "source": [
    "number=int(input(\"enter the range: \"))\n",
    "first_value=0\n",
    "second_value=1\n",
    "for num in range(0,number):\n",
    "    if(num<=1):\n",
    "        Next=num\n",
    "    else:\n",
    "        Next=first_value+second_value\n",
    "        first_value=second_value\n",
    "        second_value=Next\n",
    "    print(Next)"
   ]
  },
  {
   "cell_type": "code",
   "execution_count": 21,
   "id": "8f204162",
   "metadata": {},
   "outputs": [
    {
     "name": "stdout",
     "output_type": "stream",
     "text": [
      "enter a characteri\n",
      "A\n",
      "AB\n",
      "ABC\n",
      "ABCD\n",
      "ABCDE\n",
      "ABCDEF\n",
      "ABCDEFG\n",
      "ABCDEFGH\n",
      "ABCDEFGHI\n",
      "ABCDEFGHIJ\n",
      "ABCDEFGHIJK\n",
      "ABCDEFGHIJKL\n",
      "ABCDEFGHIJKLM\n",
      "ABCDEFGHIJKLMN\n",
      "ABCDEFGHIJKLMNO\n",
      "ABCDEFGHIJKLMNOP\n",
      "ABCDEFGHIJKLMNOPQ\n",
      "ABCDEFGHIJKLMNOPQR\n",
      "ABCDEFGHIJKLMNOPQRS\n",
      "ABCDEFGHIJKLMNOPQRST\n",
      "ABCDEFGHIJKLMNOPQRSTU\n",
      "ABCDEFGHIJKLMNOPQRSTUV\n",
      "ABCDEFGHIJKLMNOPQRSTUVW\n",
      "ABCDEFGHIJKLMNOPQRSTUVWX\n",
      "ABCDEFGHIJKLMNOPQRSTUVWXY\n",
      "ABCDEFGHIJKLMNOPQRSTUVWXYZ\n",
      "ABCDEFGHIJKLMNOPQRSTUVWXYZ[\n",
      "ABCDEFGHIJKLMNOPQRSTUVWXYZ[\\\n",
      "ABCDEFGHIJKLMNOPQRSTUVWXYZ[\\]\n",
      "ABCDEFGHIJKLMNOPQRSTUVWXYZ[\\]^\n",
      "ABCDEFGHIJKLMNOPQRSTUVWXYZ[\\]^_\n",
      "ABCDEFGHIJKLMNOPQRSTUVWXYZ[\\]^_`\n",
      "ABCDEFGHIJKLMNOPQRSTUVWXYZ[\\]^_`a\n",
      "ABCDEFGHIJKLMNOPQRSTUVWXYZ[\\]^_`ab\n",
      "ABCDEFGHIJKLMNOPQRSTUVWXYZ[\\]^_`abc\n",
      "ABCDEFGHIJKLMNOPQRSTUVWXYZ[\\]^_`abcd\n",
      "ABCDEFGHIJKLMNOPQRSTUVWXYZ[\\]^_`abcde\n",
      "ABCDEFGHIJKLMNOPQRSTUVWXYZ[\\]^_`abcdef\n",
      "ABCDEFGHIJKLMNOPQRSTUVWXYZ[\\]^_`abcdefg\n",
      "ABCDEFGHIJKLMNOPQRSTUVWXYZ[\\]^_`abcdefgh\n",
      "ABCDEFGHIJKLMNOPQRSTUVWXYZ[\\]^_`abcdefghi\n"
     ]
    }
   ],
   "source": [
    "ch=str(input(\"enter a character:\"))\n",
    "a=ord(ch)\n",
    "for x in range(65,a+1):\n",
    "    for c in range(65,x+1):\n",
    "        print(chr(c),end=\"\")\n",
    "    print(\"\")"
   ]
  },
  {
   "cell_type": "code",
   "execution_count": 23,
   "id": "a65d221b",
   "metadata": {},
   "outputs": [
    {
     "name": "stdout",
     "output_type": "stream",
     "text": [
      "enter no5\n",
      "enter power2\n",
      "25\n"
     ]
    }
   ],
   "source": [
    "x=int(input(\"enter no\"))\n",
    "b=int(input(\"enter power\"))\n",
    "y=x\n",
    "for a in range(0,b-1):\n",
    "    y=x*y\n",
    "print(y)"
   ]
  },
  {
   "cell_type": "code",
   "execution_count": 24,
   "id": "1c9ee166",
   "metadata": {},
   "outputs": [
    {
     "name": "stdout",
     "output_type": "stream",
     "text": [
      "enter number2\n",
      "enter power2\n",
      "4\n"
     ]
    }
   ],
   "source": [
    "a=int(input(\"enter number\"))\n",
    "b=int(input(\"enter power\"))\n",
    "c=a**b\n",
    "print(c)"
   ]
  },
  {
   "cell_type": "code",
   "execution_count": 27,
   "id": "7cae2d99",
   "metadata": {},
   "outputs": [
    {
     "name": "stdout",
     "output_type": "stream",
     "text": [
      "enter number222\n",
      "the number is palindrome:\n"
     ]
    }
   ],
   "source": [
    "n=int(input(\"enter number\"))\n",
    "x=n\n",
    "r=0\n",
    "while n>0:\n",
    "    d=n%10\n",
    "    r=r*10+d\n",
    "    n=n//10\n",
    "if x==r:\n",
    "    print(\"the number is palindrome:\")\n",
    "else:\n",
    "    print(\"the number is not palindrome:\")"
   ]
  },
  {
   "cell_type": "code",
   "execution_count": 32,
   "id": "b7df4d3b",
   "metadata": {},
   "outputs": [
    {
     "name": "stdout",
     "output_type": "stream",
     "text": [
      "enter the element of list5\n",
      "do you want to enter more element:Y\n",
      "enter the element of list6\n",
      "do you want to enter more element:Y\n",
      "enter the element of list62\n",
      "do you want to enter more element:N\n",
      "the list is: [5, 6, 62]\n",
      "the factorial of each element is [1, 2, 6, 24, 120, 1, 2, 6, 24, 120, 720, 1, 2, 6, 24, 120, 720, 5040, 40320, 362880, 3628800, 39916800, 479001600, 6227020800, 87178291200, 1307674368000, 20922789888000, 355687428096000, 6402373705728000, 121645100408832000, 2432902008176640000, 51090942171709440000, 1124000727777607680000, 25852016738884976640000, 620448401733239439360000, 15511210043330985984000000, 403291461126605635584000000, 10888869450418352160768000000, 304888344611713860501504000000, 8841761993739701954543616000000, 265252859812191058636308480000000, 8222838654177922817725562880000000, 263130836933693530167218012160000000, 8683317618811886495518194401280000000, 295232799039604140847618609643520000000, 10333147966386144929666651337523200000000, 371993326789901217467999448150835200000000, 13763753091226345046315979581580902400000000, 523022617466601111760007224100074291200000000, 20397882081197443358640281739902897356800000000, 815915283247897734345611269596115894272000000000, 33452526613163807108170062053440751665152000000000, 1405006117752879898543142606244511569936384000000000, 60415263063373835637355132068513997507264512000000000, 2658271574788448768043625811014615890319638528000000000, 119622220865480194561963161495657715064383733760000000000, 5502622159812088949850305428800254892961651752960000000000, 258623241511168180642964355153611979969197632389120000000000, 12413915592536072670862289047373375038521486354677760000000000, 608281864034267560872252163321295376887552831379210240000000000, 30414093201713378043612608166064768844377641568960512000000000000, 1551118753287382280224243016469303211063259720016986112000000000000, 80658175170943878571660636856403766975289505440883277824000000000000, 4274883284060025564298013753389399649690343788366813724672000000000000, 230843697339241380472092742683027581083278564571807941132288000000000000, 12696403353658275925965100847566516959580321051449436762275840000000000000, 710998587804863451854045647463724949736497978881168458687447040000000000000, 40526919504877216755680601905432322134980384796226602145184481280000000000000, 2350561331282878571829474910515074683828862318181142924420699914240000000000000, 138683118545689835737939019720389406345902876772687432540821294940160000000000000, 8320987112741390144276341183223364380754172606361245952449277696409600000000000000, 507580213877224798800856812176625227226004528988036003099405939480985600000000000000, 31469973260387937525653122354950764088012280797258232192163168247821107200000000000000]\n"
     ]
    }
   ],
   "source": [
    "a=[]\n",
    "fact=[]\n",
    "ch=\"y\"\n",
    "while ch==\"y\" or ch==\"Y\":\n",
    "    item=int(input(\"enter the element of list\"))\n",
    "    a.append(item)\n",
    "    ch=input(\"do you want to enter more element:\")\n",
    "print(\"the list is:\",a)\n",
    "for i in a:\n",
    "    f=1\n",
    "    for j in range(1,i+1):\n",
    "        f=f*j\n",
    "        fact.append(f)\n",
    "print(\"the factorial of each element is\",fact)"
   ]
  },
  {
   "cell_type": "code",
   "execution_count": 33,
   "id": "06823b06",
   "metadata": {},
   "outputs": [
    {
     "name": "stdout",
     "output_type": "stream",
     "text": [
      "enter rows6\n",
      "     * \n",
      "    * * \n",
      "   * * * \n",
      "  * * * * \n",
      " * * * * * \n",
      "* * * * * * \n"
     ]
    }
   ],
   "source": [
    "n=int(input(\"enter rows\"))\n",
    "for i in range(0,n):\n",
    "    for j in range(0,n-i-1):\n",
    "        print(end=\" \")\n",
    "    for j in range(0,i+1):\n",
    "        print(\"*\",end=\" \")\n",
    "    print()"
   ]
  },
  {
   "cell_type": "code",
   "execution_count": 34,
   "id": "c6cbf053",
   "metadata": {},
   "outputs": [
    {
     "name": "stdout",
     "output_type": "stream",
     "text": [
      "enter limit5\n",
      "enter element34\n",
      "enter element67\n",
      "enter element90\n",
      "enter element12\n",
      "enter element34\n",
      "[34, 67, 90, 12, 34]\n"
     ]
    }
   ],
   "source": [
    "a=eval(input(\"enter limit\"))\n",
    "n=[]\n",
    "for a in range(1,a+1):\n",
    "    a=eval (input(\"enter element\"))\n",
    "    n.append(a)\n",
    "print(n)"
   ]
  },
  {
   "cell_type": "code",
   "execution_count": 38,
   "id": "80cff47e",
   "metadata": {},
   "outputs": [
    {
     "name": "stdout",
     "output_type": "stream",
     "text": [
      "enter limit3\n",
      "enter element45\n",
      "enter element90\n",
      "enter element22\n",
      "[45, 90, 22]\n",
      "after sorting the list is\n",
      "[45, 90, 22]\n"
     ]
    }
   ],
   "source": [
    "a=eval(input(\"enter limit\"))\n",
    "lst=[]\n",
    "for a in range(1,a+1):\n",
    "    a=eval(input(\"enter element\"))\n",
    "    lst.append(a)\n",
    "print(lst)\n",
    "l=len(lst)\n",
    "for i in range(1):\n",
    "    for j in range(0,1-i-1):\n",
    "        if lst[j]>lst[j+1]:\n",
    "            temp=lst[j]\n",
    "            lst[j]=lst[j+1]\n",
    "            lst[j+1]=temp\n",
    "print(\"after sorting the list is\")\n",
    "print(lst)"
   ]
  },
  {
   "cell_type": "code",
   "execution_count": 39,
   "id": "0a9acb72",
   "metadata": {},
   "outputs": [
    {
     "name": "stdout",
     "output_type": "stream",
     "text": [
      "enter limit4\n",
      "enter element33\n",
      "enter element78\n",
      "enter element45\n",
      "enter element12\n",
      "[33, 78, 45, 12]\n",
      "After sorting the list is\n",
      "[33, 78, 45, 12]\n"
     ]
    }
   ],
   "source": [
    "a=eval(input(\"enter limit\"))\n",
    "lst=[]\n",
    "for a in range(1,a+1):\n",
    "    a=eval(input(\"enter element\"))\n",
    "    lst.append(a)\n",
    "print(lst)\n",
    "l=len(lst)\n",
    "for i in range(1):\n",
    "    for j in range(0,1-i-1):\n",
    "        if lst[j]>lst[j+1]:\n",
    "            temp=lst[j]\n",
    "            lst[j]=lst[j+1]\n",
    "            lst[j+1]=temp\n",
    "print(\"After sorting the list is\")\n",
    "print(lst)"
   ]
  },
  {
   "cell_type": "code",
   "execution_count": 8,
   "id": "c5adcaa1",
   "metadata": {},
   "outputs": [
    {
     "name": "stdout",
     "output_type": "stream",
     "text": [
      "enter limit3\n",
      "enter element12\n",
      "enter element67\n",
      "enter element22\n",
      "[12, 67, 22]\n",
      "after sorting the list is\n",
      "[12, 22, 67]\n"
     ]
    }
   ],
   "source": [
    "a=eval(input(\"enter limit\"))\n",
    "list=[]\n",
    "for a in range(1,a+1):\n",
    "    a=eval(input(\"enter element\"))\n",
    "    list.append(a)\n",
    "print(list)\n",
    "l=len(list)\n",
    "for i in range(l):\n",
    "    for j in range(0,l-i-1):\n",
    "        if list[j]>list[j+1]:\n",
    "            temp=list[j]\n",
    "            list[j]=list[j+1]\n",
    "            list[j+1]=temp\n",
    "print(\"after sorting the list is\")\n",
    "print(list)"
   ]
  },
  {
   "cell_type": "code",
   "execution_count": 40,
   "id": "f198d542",
   "metadata": {},
   "outputs": [
    {
     "name": "stdout",
     "output_type": "stream",
     "text": [
      "enter limit3\n",
      "enter mobile number8698679119\n",
      "enter nameAnushka Patil\n",
      "enter mobile number8485821511\n",
      "enter namemayur\n",
      "enter mobile number8390600675\n",
      "enter nameDivesh\n",
      "{8698679119: 'Anushka Patil', 8485821511: 'mayur', 8390600675: 'Divesh'}\n",
      "enter the no to search in dictionary8698679119\n",
      "the name of person is Anushka Patil\n"
     ]
    }
   ],
   "source": [
    "n=int(input(\"enter limit\"))\n",
    "m={}\n",
    "mob=0\n",
    "name=\" \"\n",
    "i=0\n",
    "for i in range(0,n):\n",
    "    mob=int(input(\"enter mobile number\"))\n",
    "    name=str(input(\"enter name\"))\n",
    "    z2=dict({mob:name})\n",
    "    m.update(z2)\n",
    "print(m)\n",
    "n=int(input(\"enter the no to search in dictionary\"))\n",
    "print(\"the name of person is\",m[n])"
   ]
  },
  {
   "cell_type": "code",
   "execution_count": 43,
   "id": "cd1dbaed",
   "metadata": {},
   "outputs": [
    {
     "name": "stdout",
     "output_type": "stream",
     "text": [
      "enter number5\n",
      "5 is prime number\n"
     ]
    }
   ],
   "source": [
    "num=int(input(\"enter number\"))\n",
    "lim=int(num/2)+1\n",
    "for i in range(2,lim):\n",
    "    rem=num%i\n",
    "    if rem==0:\n",
    "        print(num,\"is not prime number\")\n",
    "        break\n",
    "else:\n",
    "    print(num,\"is prime number\")"
   ]
  },
  {
   "cell_type": "code",
   "execution_count": 44,
   "id": "9ebf30c2",
   "metadata": {},
   "outputs": [
    {
     "name": "stdout",
     "output_type": "stream",
     "text": [
      "enter number6\n",
      "6 is even number\n"
     ]
    }
   ],
   "source": [
    "a=int(input(\"enter number\"))\n",
    "r=a%2\n",
    "if r==0:\n",
    "    print(a,\"is even number\")\n",
    "elif r>0:\n",
    "    print(a,\"is odd number\")\n",
    "else:\n",
    "    print(\"you enter a number 0 or less than 0\")"
   ]
  },
  {
   "cell_type": "code",
   "execution_count": 46,
   "id": "65016d26",
   "metadata": {},
   "outputs": [
    {
     "name": "stdout",
     "output_type": "stream",
     "text": [
      "enter limit3\n",
      "enter element67\n",
      "enter element23\n",
      "enter element11\n",
      "tuple is (67, 23, 11)\n"
     ]
    }
   ],
   "source": [
    "a=()\n",
    "l=[]\n",
    "n=int(input(\"enter limit\"))\n",
    "for i in range(0,n):\n",
    "    item=int(input(\"enter element\"))\n",
    "    l.append(item)\n",
    "a=a+tuple(l)\n",
    "print(\"tuple is\",a)"
   ]
  },
  {
   "cell_type": "code",
   "execution_count": 47,
   "id": "bd46ca6c",
   "metadata": {},
   "outputs": [
    {
     "name": "stdout",
     "output_type": "stream",
     "text": [
      "enter the integer34567\n",
      "the reversed integer is: 76543\n"
     ]
    }
   ],
   "source": [
    "n=int(input(\"enter the integer\"))\n",
    "x=n\n",
    "r=0\n",
    "while n>0:\n",
    "    d=n%10\n",
    "    r=r*10+d\n",
    "    n=n//10\n",
    "print(\"the reversed integer is:\",r)\n"
   ]
  },
  {
   "cell_type": "code",
   "execution_count": null,
   "id": "53aad07a",
   "metadata": {},
   "outputs": [],
   "source": []
  }
 ],
 "metadata": {
  "kernelspec": {
   "display_name": "Python 3 (ipykernel)",
   "language": "python",
   "name": "python3"
  },
  "language_info": {
   "codemirror_mode": {
    "name": "ipython",
    "version": 3
   },
   "file_extension": ".py",
   "mimetype": "text/x-python",
   "name": "python",
   "nbconvert_exporter": "python",
   "pygments_lexer": "ipython3",
   "version": "3.11.4"
  }
 },
 "nbformat": 4,
 "nbformat_minor": 5
}
